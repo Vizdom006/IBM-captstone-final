{
 "cells": [
  {
   "cell_type": "markdown",
   "metadata": {
    "collapsed": true
   },
   "source": [
    "# **Data Sources**"
   ]
  },
  {
   "cell_type": "markdown",
   "metadata": {},
   "source": [
    "The major Data sources for our project are\n",
    "\n",
    "* **Wikipedia** https://en.wikipedia.org/wiki/Demographics_of_Toronto_neighbourhoods#East_York\n",
    "* **Foursquare API**"
   ]
  },
  {
   "cell_type": "markdown",
   "metadata": {},
   "source": [
    "## Data from Wikipedia"
   ]
  },
  {
   "cell_type": "markdown",
   "metadata": {},
   "source": [
    "The Data from wikipedia contains \n",
    "1. Name of the Neighbourhood\n",
    "2. Population\n",
    "3. Average income of the Neighbourhood\n",
    "4. Land Area\n",
    "5. Population Density\n",
    "\n",
    "Based on the Above features and using Foursquare API we calculate a score and train a model based on **polynomial/linear regression** to rank them accordingly. \n"
   ]
  },
  {
   "cell_type": "markdown",
   "metadata": {},
   "source": [
    "## Data from Foursquare API\n"
   ]
  },
  {
   "cell_type": "markdown",
   "metadata": {},
   "source": [
    "We pass the Neighbourhood Name and Venue Category to get the list of restaurants available in the Neighbourhood, Based on the number of restaurants we do a competitive analysis and rank the neighbourhoods accordingly."
   ]
  }
 ],
 "metadata": {
  "kernelspec": {
   "display_name": "Python 3.7",
   "language": "python",
   "name": "python3"
  },
  "language_info": {
   "codemirror_mode": {
    "name": "ipython",
    "version": 3
   },
   "file_extension": ".py",
   "mimetype": "text/x-python",
   "name": "python",
   "nbconvert_exporter": "python",
   "pygments_lexer": "ipython3",
   "version": "3.7.9"
  }
 },
 "nbformat": 4,
 "nbformat_minor": 1
}
