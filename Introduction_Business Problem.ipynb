{
 "cells": [
  {
   "cell_type": "markdown",
   "metadata": {
    "collapsed": true
   },
   "source": [
    "# **Problem Statement**"
   ]
  },
  {
   "cell_type": "markdown",
   "metadata": {},
   "source": [
    "_This project aims to rank neighbourhoods in Toronto based on suitable factors to start a restaurant. This will immensely help new business owners or corporate restaurant chains decide where to begin their next restaurant in Toronto._\n",
    "\n",
    "So we will analyse features like population, the average income of the neighbourhood, no of similar restaurants in the neighbourhood  and rank them with a score internally among all the other districts in the municipality. Based on the average score of each municipality, we could rank them in order finally.\n"
   ]
  },
  {
   "cell_type": "markdown",
   "metadata": {},
   "source": [
    "## **The Location**"
   ]
  },
  {
   "cell_type": "markdown",
   "metadata": {},
   "source": [
    "The significant municipalities of Toronto are \n",
    "* **East York** \n",
    "* **Etobicoke**\n",
    "* **Scarborough**\n",
    "\n",
    "\n",
    "\n"
   ]
  },
  {
   "cell_type": "markdown",
   "metadata": {},
   "source": [
    "## Modelling approach\n",
    "\n",
    "We use **Linear regression** to calculate a score for each neighbourhood and rank them based on the score(Higher the score of the neighbourhood- Higher the rank). The higher ranking neighbourhood is prefered over other for starting a restaurant."
   ]
  },
  {
   "cell_type": "markdown",
   "metadata": {},
   "source": [
    "## Libraries used in this project"
   ]
  },
  {
   "cell_type": "markdown",
   "metadata": {},
   "source": [
    "* **Pandas** -  For creating and manipulating dataframes.\n",
    "* **folium** -  A visualization library would be used to visualize the neighborhoods cluster distribution of using interactive leaflet map.\n",
    "* **Numpy** - For sorting and ranking the dataframe\n",
    "* **Geocoder** - Location data\n",
    "* **Scikit Learn** -For implementing the ranking algorithm\n",
    "\n",
    "## API's\n",
    "\n",
    "**Foursquare** - Four-square API as its prime data gathering source as it has a database of millions of places, especially their places API which provides the ability to perform location search, location sharing and details about a business.\n"
   ]
  }
 ],
 "metadata": {
  "kernelspec": {
   "display_name": "Python 3.7",
   "language": "python",
   "name": "python3"
  },
  "language_info": {
   "codemirror_mode": {
    "name": "ipython",
    "version": 3
   },
   "file_extension": ".py",
   "mimetype": "text/x-python",
   "name": "python",
   "nbconvert_exporter": "python",
   "pygments_lexer": "ipython3",
   "version": "3.7.9"
  }
 },
 "nbformat": 4,
 "nbformat_minor": 1
}
